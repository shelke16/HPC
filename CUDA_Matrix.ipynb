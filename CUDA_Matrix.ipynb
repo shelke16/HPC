{
  "nbformat": 4,
  "nbformat_minor": 0,
  "metadata": {
    "colab": {
      "provenance": [],
      "gpuType": "T4",
      "authorship_tag": "ABX9TyPsZA4V7Mk9YWSKfdkNsTxK",
      "include_colab_link": true
    },
    "kernelspec": {
      "name": "python3",
      "display_name": "Python 3"
    },
    "language_info": {
      "name": "python"
    },
    "accelerator": "GPU"
  },
  "cells": [
    {
      "cell_type": "markdown",
      "metadata": {
        "id": "view-in-github",
        "colab_type": "text"
      },
      "source": [
        "<a href=\"https://colab.research.google.com/github/shelke16/HPC/blob/main/CUDA_Matrix.ipynb\" target=\"_parent\"><img src=\"https://colab.research.google.com/assets/colab-badge.svg\" alt=\"Open In Colab\"/></a>"
      ]
    },
    {
      "cell_type": "code",
      "source": [
        "%%writefile matmull.cu\n",
        "#include <stdio.h>\n",
        "#include <cuda_runtime.h>\n",
        "\n",
        "__global__ void matmul(int* A, int* B, int* C) {\n",
        "    int row = threadIdx.x;\n",
        "    int col = threadIdx.y;\n",
        "\n",
        "    if (row < 2 && col < 2) {\n",
        "        int sum = 0;\n",
        "        for (int k = 0; k < 2; k++) {\n",
        "            sum += A[row * 2 + k] * B[k * 2 + col];\n",
        "        }\n",
        "        C[row * 2 + col] = sum;\n",
        "    }\n",
        "}\n",
        "\n",
        "int main() {\n",
        "    // Declare matrices A, B, and C\n",
        "    int A[2][2] = {{1, 2}, {3, 4}};  // Example 2x2 matrix A\n",
        "    int B[2][2] = {{5, 6}, {7, 8}};  // Example 2x2 matrix B\n",
        "    int C[2][2];  // Result matrix C\n",
        "\n",
        "    int *d_A, *d_B, *d_C;\n",
        "    int size = 2 * 2 * sizeof(int); // Size of 2x2 matrix\n",
        "\n",
        "    // Allocate memory on the device (GPU)\n",
        "    cudaMalloc((void**)&d_A, size);\n",
        "    cudaMalloc((void**)&d_B, size);\n",
        "    cudaMalloc((void**)&d_C, size);\n",
        "\n",
        "    // Copy data from host to device\n",
        "    cudaMemcpy(d_A, A, size, cudaMemcpyHostToDevice);\n",
        "    cudaMemcpy(d_B, B, size, cudaMemcpyHostToDevice);\n",
        "\n",
        "    // Launch the kernel with a 2x2 block size (one thread per element)\n",
        "    dim3 threadsPerBlock(2, 2); // 2x2 block of threads\n",
        "    matmul<<<1, threadsPerBlock>>>(d_A, d_B, d_C);\n",
        "\n",
        "    // Check for any errors during kernel launch\n",
        "    cudaError_t err = cudaGetLastError();\n",
        "    if (err != cudaSuccess) {\n",
        "        printf(\"CUDA error: %s\\n\", cudaGetErrorString(err));\n",
        "        return -1;\n",
        "    }\n",
        "\n",
        "    // Copy the result back from device to host\n",
        "    cudaMemcpy(C, d_C, size, cudaMemcpyDeviceToHost);\n",
        "\n",
        "    // Print the result matrix C\n",
        "    printf(\"Resulting matrix C:\\n\");\n",
        "    for (int i = 0; i < 2; i++) {\n",
        "        for (int j = 0; j < 2; j++) {\n",
        "            printf(\"%d \", C[i][j]);\n",
        "        }\n",
        "        printf(\"\\n\");\n",
        "    }\n",
        "\n",
        "    // Free device memory\n",
        "    cudaFree(d_A);\n",
        "    cudaFree(d_B);\n",
        "    cudaFree(d_C);\n",
        "\n",
        "    return 0;\n",
        "}"
      ],
      "metadata": {
        "colab": {
          "base_uri": "https://localhost:8080/"
        },
        "id": "1wiyXUzzY9MR",
        "outputId": "a1966b95-d74f-4f5a-de65-cf203d392547"
      },
      "execution_count": 7,
      "outputs": [
        {
          "output_type": "stream",
          "name": "stdout",
          "text": [
            "Overwriting matmull.cu\n"
          ]
        }
      ]
    },
    {
      "cell_type": "code",
      "source": [
        "!nvcc -arch=sm_75 -o matmull matmull.cu"
      ],
      "metadata": {
        "id": "8jy2MrqKZ2sS"
      },
      "execution_count": 8,
      "outputs": []
    },
    {
      "cell_type": "code",
      "source": [
        "!./matmull"
      ],
      "metadata": {
        "colab": {
          "base_uri": "https://localhost:8080/"
        },
        "id": "BOi9TDCiZ-kZ",
        "outputId": "3814c6a8-ef86-4bbe-cab8-56a3d434a553"
      },
      "execution_count": 9,
      "outputs": [
        {
          "output_type": "stream",
          "name": "stdout",
          "text": [
            "Resulting matrix C:\n",
            "19 22 \n",
            "43 50 \n"
          ]
        }
      ]
    },
    {
      "cell_type": "code",
      "source": [],
      "metadata": {
        "id": "MrZ6ntpSaCDH"
      },
      "execution_count": null,
      "outputs": []
    }
  ]
}