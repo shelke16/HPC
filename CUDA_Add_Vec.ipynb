{
  "nbformat": 4,
  "nbformat_minor": 0,
  "metadata": {
    "colab": {
      "provenance": [],
      "authorship_tag": "ABX9TyOn9p+X+ooYdtRCmK9C0Ix+",
      "include_colab_link": true
    },
    "kernelspec": {
      "name": "python3",
      "display_name": "Python 3"
    },
    "language_info": {
      "name": "python"
    }
  },
  "cells": [
    {
      "cell_type": "markdown",
      "metadata": {
        "id": "view-in-github",
        "colab_type": "text"
      },
      "source": [
        "<a href=\"https://colab.research.google.com/github/shelke16/HPC/blob/main/CUDA_Add_Vec.ipynb\" target=\"_parent\"><img src=\"https://colab.research.google.com/assets/colab-badge.svg\" alt=\"Open In Colab\"/></a>"
      ]
    },
    {
      "cell_type": "code",
      "source": [
        "%%writefile vector_add.cu\n",
        "#include <iostream>\n",
        "#include <cuda_runtime.h>\n",
        "#define BLOCK_SIZE 16\n",
        "using namespace std;\n",
        "\n",
        "void fill_array(int *arr, int size) {\n",
        "    for (int i = 0; i < size; i++) {\n",
        "        arr[i] = rand() % 100;\n",
        "    }\n",
        "}\n",
        "\n",
        "void print_array(int *arr, int size) {\n",
        "    for (int i = 0; i < size; i++) {\n",
        "        cout << arr[i] << \" \";\n",
        "    }\n",
        "    cout << endl;\n",
        "}\n",
        "\n",
        "__global__ void add(int *arr1, int *arr2, int *arr3, int size) {\n",
        "    int idx = blockIdx.x * blockDim.x + threadIdx.x;\n",
        "    if (idx < size) {\n",
        "        arr3[idx] = arr1[idx] + arr2[idx];\n",
        "    }\n",
        "}\n",
        "\n",
        "int main() {\n",
        "    int size;\n",
        "    cout << \"Enter size of vector: \";\n",
        "    cin >> size;\n",
        "\n",
        "    int *arr1_cpu = new int[size];\n",
        "    int *arr2_cpu = new int[size];\n",
        "    int *result_cpu = new int[size];\n",
        "\n",
        "    fill_array(arr1_cpu, size);\n",
        "    cout << \"Array 1: \";\n",
        "    print_array(arr1_cpu, size);\n",
        "\n",
        "    fill_array(arr2_cpu, size);\n",
        "    cout << \"Array 2: \";\n",
        "    print_array(arr2_cpu, size);\n",
        "\n",
        "    int *arr1_gpu, *arr2_gpu, *result_gpu;\n",
        "    cudaMallocManaged(&arr1_gpu, size * sizeof(int));\n",
        "    cudaMallocManaged(&arr2_gpu, size * sizeof(int));\n",
        "    cudaMallocManaged(&result_gpu, size * sizeof(int));\n",
        "\n",
        "    cudaMemcpy(arr1_gpu, arr1_cpu, size * sizeof(int),\n",
        "cudaMemcpyHostToDevice);\n",
        "    cudaMemcpy(arr2_gpu, arr2_cpu, size * sizeof(int),\n",
        "cudaMemcpyHostToDevice);\n",
        "\n",
        "    int threadsPerBlock = 16;\n",
        "    int blocksPerGrid = (size + threadsPerBlock - 1) / threadsPerBlock;\n",
        "    add<<<blocksPerGrid, threadsPerBlock>>>(arr1_gpu, arr2_gpu,\n",
        "result_gpu, size);\n",
        "\n",
        "    cudaMemcpy(result_cpu, result_gpu, size * sizeof(int),\n",
        "cudaMemcpyDeviceToHost);\n",
        "\n",
        "    cout << \"Result Array: \";\n",
        "    print_array(result_cpu, size);\n",
        "\n",
        "    // Free memory\n",
        "    delete[] arr1_cpu;\n",
        "    delete[] arr2_cpu;\n",
        "    delete[] result_cpu;\n",
        "    cudaFree(arr1_gpu);\n",
        "    cudaFree(arr2_gpu);\n",
        "    cudaFree(result_gpu);\n",
        "\n",
        "    return 0;\n",
        "}"
      ],
      "metadata": {
        "colab": {
          "base_uri": "https://localhost:8080/"
        },
        "id": "5ci-V5WLRJD0",
        "outputId": "959bf26e-6c00-4e13-cd18-31f5f7129389"
      },
      "execution_count": 31,
      "outputs": [
        {
          "output_type": "stream",
          "name": "stdout",
          "text": [
            "Overwriting vector_add.cu\n"
          ]
        }
      ]
    },
    {
      "cell_type": "code",
      "source": [
        "!nvcc -o vector_add vector_add.cu\n",
        "!nvcc -arch=sm_75 -o vector_add vector_add.cu\n",
        "!./vector_add"
      ],
      "metadata": {
        "colab": {
          "base_uri": "https://localhost:8080/"
        },
        "id": "1NMRe2noRWAV",
        "outputId": "4be537b3-b69a-459c-a219-c6401e967288"
      },
      "execution_count": 32,
      "outputs": [
        {
          "output_type": "stream",
          "name": "stdout",
          "text": [
            "Enter size of vector: 4\n",
            "Array 1: 83 86 77 15 \n",
            "Array 2: 93 35 86 92 \n",
            "Result Array: 0 0 0 0 \n"
          ]
        }
      ]
    },
    {
      "cell_type": "code",
      "source": [],
      "metadata": {
        "id": "huBHHcL3YTjl"
      },
      "execution_count": null,
      "outputs": []
    }
  ]
}